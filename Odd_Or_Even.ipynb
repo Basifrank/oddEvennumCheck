{
  "nbformat": 4,
  "nbformat_minor": 0,
  "metadata": {
    "colab": {
      "name": "Odd Or Even.ipynb",
      "provenance": [],
      "collapsed_sections": [],
      "authorship_tag": "ABX9TyMeA0tI+fX3yiCcT3z0LWG1",
      "include_colab_link": true
    },
    "kernelspec": {
      "name": "python3",
      "display_name": "Python 3"
    }
  },
  "cells": [
    {
      "cell_type": "markdown",
      "metadata": {
        "id": "view-in-github",
        "colab_type": "text"
      },
      "source": [
        "<a href=\"https://colab.research.google.com/github/Basifrank/oddEvennumCheck/blob/master/Odd_Or_Even.ipynb\" target=\"_parent\"><img src=\"https://colab.research.google.com/assets/colab-badge.svg\" alt=\"Open In Colab\"/></a>"
      ]
    },
    {
      "cell_type": "markdown",
      "metadata": {
        "id": "XGxpEMzKCT8O",
        "colab_type": "text"
      },
      "source": [
        "Ask the user for a number. Depending on whether the number is even or odd, print out an appropriate message to the user. Hint: how does an even / odd number react differently when divided by 2?\n",
        "\n",
        "Extras:\n",
        "\n",
        "If the number is a multiple of 4, print out a different message.\n",
        "Ask the user for two numbers: one number to check (call it num) and one number to divide by (check). If check divides evenly into num, tell that to the user. If not, print a different appropriate message.\n"
      ]
    },
    {
      "cell_type": "code",
      "metadata": {
        "id": "Cd7oQW5rCuu9",
        "colab_type": "code",
        "colab": {
          "base_uri": "https://localhost:8080/",
          "height": 51
        },
        "outputId": "25a39f23-7536-4cce-9448-9b7d9b2c94c9"
      },
      "source": [
        "checkNum = int(input(\"Kindly input any number to check if even or not:\"))\n",
        "\n",
        "def checkEvenOdd(numCheck):\n",
        "    if numCheck > 2 and numCheck % 4 == 0:\n",
        "        print(str(checkNum) + \" is even number and a multiple of 4\")\n",
        "    \n",
        "    elif numCheck <= 2 and numCheck % 2 == 0:\n",
        "        print(str(checkNum) + \" is an even number but not a multiple of 4\")\n",
        "    \n",
        "    else:\n",
        "        print(str(checkNum) + \" is an odd number\")\n",
        "    \n",
        "checkEvenOdd(checkNum)"
      ],
      "execution_count": 12,
      "outputs": [
        {
          "output_type": "stream",
          "text": [
            "Kindly input any number to check if even or not:27\n",
            "27 is an odd number\n"
          ],
          "name": "stdout"
        }
      ]
    },
    {
      "cell_type": "code",
      "metadata": {
        "id": "OqLV3o8ldcMB",
        "colab_type": "code",
        "colab": {}
      },
      "source": [
        ""
      ],
      "execution_count": 0,
      "outputs": []
    },
    {
      "cell_type": "code",
      "metadata": {
        "id": "rMUtJrxXCvGE",
        "colab_type": "code",
        "colab": {}
      },
      "source": [
        ""
      ],
      "execution_count": 0,
      "outputs": []
    },
    {
      "cell_type": "code",
      "metadata": {
        "id": "d0jtI5pqCuj4",
        "colab_type": "code",
        "colab": {}
      },
      "source": [
        ""
      ],
      "execution_count": 0,
      "outputs": []
    }
  ]
}